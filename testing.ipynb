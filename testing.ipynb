{
 "cells": [
  {
   "cell_type": "code",
   "execution_count": 43,
   "metadata": {},
   "outputs": [],
   "source": [
    "import gymnasium as gym\n",
    "import ale_py\n",
    "# pip install ale-py\n",
    "\n",
    "import torch\n",
    "import torch.nn as nn\n",
    "import torch.optim as optim\n",
    "\n",
    "import torch.nn.functional as F\n",
    "import pickle\n",
    "import numpy as np\n",
    "import random\n",
    "from collections import namedtuple, deque\n",
    "import matplotlib.pyplot as plt\n",
    "import time\n",
    "gym.register_envs(ale_py)"
   ]
  },
  {
   "cell_type": "code",
   "execution_count": 44,
   "metadata": {},
   "outputs": [],
   "source": [
    "class Memory():\n",
    "    def __init__(self, capacity, file=None):\n",
    "        if file is not None:\n",
    "            try:\n",
    "                with open(file, \"rb\") as f:\n",
    "                    d = pickle.load(f)\n",
    "                    self.memory = d\n",
    "            except Exception as e:\n",
    "                self.memory = deque([], maxlen=capacity)\n",
    "                print(e)\n",
    "        else:\n",
    "            self.memory = deque([], maxlen=capacity)\n",
    "\n",
    "    def push(self, el):\n",
    "        self.memory.append(el)\n",
    "\n",
    "    def sample(self, batch_size):\n",
    "        return random.sample(self.memory, batch_size)\n",
    "\n",
    "    def __len__(self):\n",
    "        return len(self.memory)\n",
    "\n",
    "    def to_list(self):\n",
    "        return list(self.memory)"
   ]
  },
  {
   "cell_type": "code",
   "execution_count": 51,
   "metadata": {},
   "outputs": [],
   "source": [
    "class DoubleConv(nn.Module):\n",
    "    def __init__(self, channels, kernel, pool_kernel):\n",
    "        super(DoubleConv, self).__init__()\n",
    "        self.conv1 = nn.Conv2d(channels[0], channels[1], kernel)\n",
    "        self.conv2 = nn.Conv2d(channels[1], channels[2], kernel)\n",
    "        self.pool_kernel = pool_kernel\n",
    "\n",
    "    def forward(self, x):\n",
    "        x = F.relu(self.conv1(x))\n",
    "        x = F.relu(self.conv2(x))\n",
    "        x = F.max_pool2d(x, self.pool_kernel)\n",
    "        return x\n",
    "\n",
    "class DQN(nn.Module):\n",
    "    def __init__(self):\n",
    "        super(DQN, self).__init__()\n",
    "        \n",
    "        self.double_conv1 = DoubleConv(channels=(3, 4, 8), kernel=(5,5), pool_kernel=(2,2))\n",
    "        self.double_conv2 = DoubleConv(channels=(8, 8, 16), kernel=(5,5), pool_kernel=(3,3))\n",
    "\n",
    "        self.layer1 = nn.Linear(149, 32)\n",
    "        self.layer2 = nn.Linear(32, 64)\n",
    "        self.layer3 = nn.Linear(64, 3)        \n",
    "\n",
    "    def forward(self, x, f):\n",
    "        x = F.max_pool2d(x, (3,3))\n",
    "        x = self.double_conv1(x)\n",
    "        x = self.double_conv2(x)\n",
    "        x = torch.flatten(x, x.dim()-3)\n",
    "        x = torch.cat((x, f), x.dim()-1)\n",
    "        x = F.relu(self.layer1(x))\n",
    "        x = F.relu(self.layer2(x))\n",
    "        return self.layer3(x)\n",
    "\n",
    "\n",
    "def optimize_model(optimizer, memory, policy_net, target_net):\n",
    "    if len(memory) < BATCH_SIZE:\n",
    "        return\n",
    "    transitions = memory.sample(BATCH_SIZE)\n",
    "    state_batch = torch.tensor(np.array([state for (state, _, _, _, _, _) in transitions]), dtype=torch.float32)\n",
    "    feature_batch = torch.tensor(np.array([f for (_, f, _, _, _, _) in transitions]), dtype=torch.float32)\n",
    "\n",
    "    action_batch = torch.tensor([[action] for (_, _, action, _, _, _) in transitions])\n",
    "    reward_batch =  torch.tensor([reward for (_, _, _, reward, _, _) in transitions])\n",
    "    next_state_batch = torch.tensor(np.array([s2 for (_, _, _, _, s2, _) in transitions]), dtype=torch.float32)\n",
    "    next_feature_batch = torch.tensor(np.array([f for (_, _, _, _, _, f) in transitions]), dtype=torch.float32)\n",
    "\n",
    "\n",
    "\n",
    "    state_qvalues = policy_net(state_batch, feature_batch)\n",
    "    state_action_values = state_qvalues.squeeze(1).gather(1, action_batch).squeeze(1)\n",
    "\n",
    "    with torch.no_grad():\n",
    "        next_qvalues = target_net(next_state_batch, next_feature_batch).squeeze(1)\n",
    "        next_state_values = next_qvalues.max(axis=1).values\n",
    "        next_state_values = torch.tensor(next_state_values)\n",
    "    expected_state_action_values = (next_state_values * GAMMA) + reward_batch\n",
    "\n",
    "    criterion = nn.SmoothL1Loss()\n",
    "\n",
    "    loss = criterion(state_action_values, expected_state_action_values)\n",
    "\n",
    "    optimizer.zero_grad()\n",
    "    loss.backward()\n",
    "    torch.nn.utils.clip_grad_value_(policy_net.parameters(), 100)\n",
    "    optimizer.step()\n",
    "\n",
    "    target_net_state_dict = target_net.state_dict()\n",
    "    policy_net_state_dict = policy_net.state_dict()\n",
    "    for key in policy_net_state_dict:\n",
    "        target_net_state_dict[key] = policy_net_state_dict[key]*TAU + target_net_state_dict[key]*(1-TAU)\n",
    "    target_net.load_state_dict(target_net_state_dict)"
   ]
  },
  {
   "cell_type": "code",
   "execution_count": 52,
   "metadata": {},
   "outputs": [],
   "source": [
    "def truncate_picture(observation):\n",
    "    return observation[:, 40:180, 10:-10]\n",
    "\n",
    "def find_pole_middle(observation):\n",
    "    for i in range(observation.shape[1]):\n",
    "        where = (observation[0, i, :] < 100) & (observation[1, i, :] < 100)\n",
    "        blue_pixels = sum(where)\n",
    "        if blue_pixels == 10:\n",
    "            return (i, sum(np.where(where)[0])/10)\n",
    "    return None\n",
    "\n",
    "def find_player_pos(observation):\n",
    "    for i in range(observation.shape[1]):\n",
    "        where = (observation[1, i, :] < 100) & (observation[2, i, :] < 100)\n",
    "        red_pixels = sum(where)\n",
    "        if red_pixels > 0:\n",
    "            return sum(np.where(where)[0])/red_pixels\n",
    "    return None\n",
    "\n",
    "def find_all_trees(observation):\n",
    "    trees = []\n",
    "    continous = False\n",
    "    for i in range(observation.shape[1]):\n",
    "        where = (observation[0, i, :] < 100) & (observation[2, i, :] < 100)\n",
    "        green_pixels = sum(where)\n",
    "        if green_pixels > 0 and not continous:\n",
    "            continous = True\n",
    "            trees.append((i, sum(np.where(where)[0])/green_pixels))\n",
    "        if green_pixels == 0:\n",
    "            continous = False\n",
    "    return trees"
   ]
  },
  {
   "cell_type": "code",
   "execution_count": 53,
   "metadata": {},
   "outputs": [],
   "source": [
    "def get_distance_travelled(old, new):\n",
    "    old_pole = find_pole_middle(old)\n",
    "    new_pole = find_pole_middle(new)\n",
    "    if new_pole is None or old_pole is None:\n",
    "        return 0\n",
    "    dist = max(old_pole[0] - new_pole[0], 0)\n",
    "    if dist > 50:\n",
    "        dist = 0\n",
    "    return dist\n",
    "\n",
    "def extract_extra_features(observation, old_observation):\n",
    "    pole = find_pole_middle(observation)\n",
    "    player = find_player_pos(observation)\n",
    "    if pole is not None:\n",
    "        y_delta = pole[0] / observation.shape[0]\n",
    "        x_delta = (pole[1]-player)/observation.shape[1]\n",
    "    else:\n",
    "        y_delta, x_delta = 1, 0\n",
    "    trees = find_all_trees(observation)\n",
    "    trees = [(y/observation.shape[0], (x-player)/observation.shape[1]) for (x,y) in trees]\n",
    "    if len(trees) == 0:\n",
    "        trees.append((1, 1))\n",
    "    dist = get_distance_travelled(old_observation, observation)\n",
    "    return [y_delta, x_delta, trees[0][0], trees[0][1], 1/(dist+1)]\n",
    "\n",
    "def get_reward(old_observation, current_observation):\n",
    "    reward = get_distance_travelled(old_observation, current_observation)\n",
    "\n",
    "    player_pos = find_player_pos(current_observation)\n",
    "    new_pole = find_pole_middle(current_observation)\n",
    "    if new_pole is not None and new_pole[0] < 5 and abs(new_pole[1] - player_pos) < 12:\n",
    "        reward += 20\n",
    "    return reward\n"
   ]
  },
  {
   "cell_type": "code",
   "execution_count": 54,
   "metadata": {},
   "outputs": [],
   "source": [
    "def play_game(optimizer, memory, policy_net, target_net, MAX_ITER=1000):\n",
    "    env = gym.make('ALE/Skiing-v5')\n",
    "    obs, info = env.reset()\n",
    "    obs = np.swapaxes(np.swapaxes(obs, 1, 2), 0, 1)\n",
    "    obs = truncate_picture(obs)\n",
    "    last_features = extract_extra_features(obs, obs)\n",
    "    done = False\n",
    "    game_start = time.time()\n",
    "    action_sum, action_cnt = 0, 0\n",
    "    reward_sum = 0\n",
    "    while not done and action_cnt < MAX_ITER:\n",
    "        s = time.time()\n",
    "        optimize_model(optimizer, memory, policy_net, target_net)\n",
    "        if random.random() < EPSILON:\n",
    "            res = target_net(torch.tensor(obs, dtype=torch.float32), torch.tensor(last_features, dtype=torch.float32)).detach().numpy()\n",
    "            action = np.argmax(res)\n",
    "        else:\n",
    "            action = int(random.random()*A)\n",
    "        diff = time.time()-s\n",
    "        action_sum += (diff)\n",
    "        action_cnt += 1\n",
    "        for _ in range(ACTION_REPETITION):\n",
    "            observation, reward, done, trunc, info = env.step(action)\n",
    "            if done:\n",
    "                break\n",
    "        observation = np.swapaxes(np.swapaxes(observation, 1, 2), 0, 1)\n",
    "        observation = truncate_picture(observation)\n",
    "        features = extract_extra_features(observation, obs)\n",
    "        reward = get_reward(obs, observation)\n",
    "        reward_sum += reward\n",
    "        memory.push((obs, last_features, action, reward, observation, features))\n",
    "        obs = observation\n",
    "        last_features = features\n",
    "\n",
    "    print(f\"Game done in {time.time()-game_start}s, avg it length {action_sum/action_cnt}, avg reward {reward_sum/action_cnt}\")\n",
    "\n",
    "    \n"
   ]
  },
  {
   "cell_type": "code",
   "execution_count": 55,
   "metadata": {},
   "outputs": [
    {
     "name": "stdout",
     "output_type": "stream",
     "text": [
      "[Errno 2] No such file or directory: './memory'\n"
     ]
    }
   ],
   "source": [
    "BATCH_SIZE = 128\n",
    "GAMMA = 0.95\n",
    "TAU = 0.005\n",
    "LR = 0.0005\n",
    "EPSILON = 0.8\n",
    "A = 3\n",
    "MODEL_PATH = \"./\"\n",
    "MEMORY_PATH = \"./memory\"\n",
    "ACTION_REPETITION = 3\n",
    "\n",
    "\n",
    "target_net = DQN()\n",
    "target_net.load_state_dict(torch.load(MODEL_PATH+\"target\", weights_only=True, map_location=torch.device('cpu')))\n",
    "policy_net = DQN()\n",
    "policy_net.load_state_dict(target_net.state_dict())\n",
    "policy_net.load_state_dict(torch.load(MODEL_PATH+\"policy\", weights_only=True, map_location=torch.device('cpu')))\n",
    "\n",
    "\n",
    "\n",
    "memory = Memory(10**5, file=MEMORY_PATH)\n",
    "optimizer = optim.AdamW(policy_net.parameters(), lr=LR, amsgrad=True)"
   ]
  },
  {
   "cell_type": "code",
   "execution_count": 56,
   "metadata": {},
   "outputs": [
    {
     "name": "stderr",
     "output_type": "stream",
     "text": [
      "C:\\Users\\stgel\\AppData\\Local\\Temp\\ipykernel_41232\\85988877.py:56: UserWarning: To copy construct from a tensor, it is recommended to use sourceTensor.clone().detach() or sourceTensor.clone().detach().requires_grad_(True), rather than torch.tensor(sourceTensor).\n",
      "  next_state_values = torch.tensor(next_state_values)\n"
     ]
    },
    {
     "name": "stdout",
     "output_type": "stream",
     "text": [
      "Game done in 38.7349419593811s, avg it length 0.03183293080329895, avg reward 0.235\n",
      "Game done in 47.166813373565674s, avg it length 0.0381583731174469, avg reward 0.895\n",
      "Game done in 47.73751258850098s, avg it length 0.040180821895599364, avg reward 1.23\n"
     ]
    },
    {
     "ename": "KeyboardInterrupt",
     "evalue": "",
     "output_type": "error",
     "traceback": [
      "\u001b[1;31m---------------------------------------------------------------------------\u001b[0m",
      "\u001b[1;31mKeyboardInterrupt\u001b[0m                         Traceback (most recent call last)",
      "Input \u001b[1;32mIn [56]\u001b[0m, in \u001b[0;36m<module>\u001b[1;34m\u001b[0m\n\u001b[0;32m      1\u001b[0m \u001b[38;5;28;01mwhile\u001b[39;00m \u001b[38;5;28;01mTrue\u001b[39;00m:\n\u001b[1;32m----> 2\u001b[0m     \u001b[43mplay_game\u001b[49m\u001b[43m(\u001b[49m\u001b[43moptimizer\u001b[49m\u001b[43m,\u001b[49m\u001b[43m \u001b[49m\u001b[43mmemory\u001b[49m\u001b[43m,\u001b[49m\u001b[43m \u001b[49m\u001b[43mpolicy_net\u001b[49m\u001b[43m,\u001b[49m\u001b[43m \u001b[49m\u001b[43mtarget_net\u001b[49m\u001b[43m)\u001b[49m\n\u001b[0;32m      3\u001b[0m     torch\u001b[38;5;241m.\u001b[39msave(target_net\u001b[38;5;241m.\u001b[39mstate_dict(), MODEL_PATH\u001b[38;5;241m+\u001b[39m\u001b[38;5;124m\"\u001b[39m\u001b[38;5;124mtarget\u001b[39m\u001b[38;5;124m\"\u001b[39m)\n\u001b[0;32m      4\u001b[0m     torch\u001b[38;5;241m.\u001b[39msave(policy_net\u001b[38;5;241m.\u001b[39mstate_dict(), MODEL_PATH\u001b[38;5;241m+\u001b[39m\u001b[38;5;124m\"\u001b[39m\u001b[38;5;124mpolicy\u001b[39m\u001b[38;5;124m\"\u001b[39m)\n",
      "Input \u001b[1;32mIn [54]\u001b[0m, in \u001b[0;36mplay_game\u001b[1;34m(optimizer, memory, policy_net, target_net, MAX_ITER)\u001b[0m\n\u001b[0;32m     11\u001b[0m \u001b[38;5;28;01mwhile\u001b[39;00m \u001b[38;5;129;01mnot\u001b[39;00m done \u001b[38;5;129;01mand\u001b[39;00m action_cnt \u001b[38;5;241m<\u001b[39m MAX_ITER:\n\u001b[0;32m     12\u001b[0m     s \u001b[38;5;241m=\u001b[39m time\u001b[38;5;241m.\u001b[39mtime()\n\u001b[1;32m---> 13\u001b[0m     \u001b[43moptimize_model\u001b[49m\u001b[43m(\u001b[49m\u001b[43moptimizer\u001b[49m\u001b[43m,\u001b[49m\u001b[43m \u001b[49m\u001b[43mmemory\u001b[49m\u001b[43m,\u001b[49m\u001b[43m \u001b[49m\u001b[43mpolicy_net\u001b[49m\u001b[43m,\u001b[49m\u001b[43m \u001b[49m\u001b[43mtarget_net\u001b[49m\u001b[43m)\u001b[49m\n\u001b[0;32m     14\u001b[0m     \u001b[38;5;28;01mif\u001b[39;00m random\u001b[38;5;241m.\u001b[39mrandom() \u001b[38;5;241m<\u001b[39m EPSILON:\n\u001b[0;32m     15\u001b[0m         res \u001b[38;5;241m=\u001b[39m target_net(torch\u001b[38;5;241m.\u001b[39mtensor(obs, dtype\u001b[38;5;241m=\u001b[39mtorch\u001b[38;5;241m.\u001b[39mfloat32), torch\u001b[38;5;241m.\u001b[39mtensor(last_features, dtype\u001b[38;5;241m=\u001b[39mtorch\u001b[38;5;241m.\u001b[39mfloat32))\u001b[38;5;241m.\u001b[39mdetach()\u001b[38;5;241m.\u001b[39mnumpy()\n",
      "Input \u001b[1;32mIn [51]\u001b[0m, in \u001b[0;36moptimize_model\u001b[1;34m(optimizer, memory, policy_net, target_net)\u001b[0m\n\u001b[0;32m     44\u001b[0m reward_batch \u001b[38;5;241m=\u001b[39m  torch\u001b[38;5;241m.\u001b[39mtensor([reward \u001b[38;5;28;01mfor\u001b[39;00m (_, _, _, reward, _, _) \u001b[38;5;129;01min\u001b[39;00m transitions])\n\u001b[0;32m     45\u001b[0m next_state_batch \u001b[38;5;241m=\u001b[39m torch\u001b[38;5;241m.\u001b[39mtensor(np\u001b[38;5;241m.\u001b[39marray([s2 \u001b[38;5;28;01mfor\u001b[39;00m (_, _, _, _, s2, _) \u001b[38;5;129;01min\u001b[39;00m transitions]), dtype\u001b[38;5;241m=\u001b[39mtorch\u001b[38;5;241m.\u001b[39mfloat32)\n\u001b[1;32m---> 46\u001b[0m next_feature_batch \u001b[38;5;241m=\u001b[39m \u001b[43mtorch\u001b[49m\u001b[38;5;241;43m.\u001b[39;49m\u001b[43mtensor\u001b[49m\u001b[43m(\u001b[49m\u001b[43mnp\u001b[49m\u001b[38;5;241;43m.\u001b[39;49m\u001b[43marray\u001b[49m\u001b[43m(\u001b[49m\u001b[43m[\u001b[49m\u001b[43mf\u001b[49m\u001b[43m \u001b[49m\u001b[38;5;28;43;01mfor\u001b[39;49;00m\u001b[43m \u001b[49m\u001b[43m(\u001b[49m\u001b[43m_\u001b[49m\u001b[43m,\u001b[49m\u001b[43m \u001b[49m\u001b[43m_\u001b[49m\u001b[43m,\u001b[49m\u001b[43m \u001b[49m\u001b[43m_\u001b[49m\u001b[43m,\u001b[49m\u001b[43m \u001b[49m\u001b[43m_\u001b[49m\u001b[43m,\u001b[49m\u001b[43m \u001b[49m\u001b[43m_\u001b[49m\u001b[43m,\u001b[49m\u001b[43m \u001b[49m\u001b[43mf\u001b[49m\u001b[43m)\u001b[49m\u001b[43m \u001b[49m\u001b[38;5;129;43;01min\u001b[39;49;00m\u001b[43m \u001b[49m\u001b[43mtransitions\u001b[49m\u001b[43m]\u001b[49m\u001b[43m)\u001b[49m\u001b[43m,\u001b[49m\u001b[43m \u001b[49m\u001b[43mdtype\u001b[49m\u001b[38;5;241;43m=\u001b[39;49m\u001b[43mtorch\u001b[49m\u001b[38;5;241;43m.\u001b[39;49m\u001b[43mfloat32\u001b[49m\u001b[43m)\u001b[49m\n\u001b[0;32m     50\u001b[0m state_qvalues \u001b[38;5;241m=\u001b[39m policy_net(state_batch, feature_batch)\n\u001b[0;32m     51\u001b[0m state_action_values \u001b[38;5;241m=\u001b[39m state_qvalues\u001b[38;5;241m.\u001b[39msqueeze(\u001b[38;5;241m1\u001b[39m)\u001b[38;5;241m.\u001b[39mgather(\u001b[38;5;241m1\u001b[39m, action_batch)\u001b[38;5;241m.\u001b[39msqueeze(\u001b[38;5;241m1\u001b[39m)\n",
      "\u001b[1;31mKeyboardInterrupt\u001b[0m: "
     ]
    }
   ],
   "source": [
    "while True:\n",
    "    play_game(optimizer, memory, policy_net, target_net)\n",
    "    torch.save(target_net.state_dict(), MODEL_PATH+\"target\")\n",
    "    torch.save(policy_net.state_dict(), MODEL_PATH+\"policy\")\n",
    "    with open(MEMORY_PATH, 'wb') as f:\n",
    "        pickle.dump(memory.memory, f)"
   ]
  },
  {
   "cell_type": "code",
   "execution_count": 42,
   "metadata": {},
   "outputs": [
    {
     "name": "stdout",
     "output_type": "stream",
     "text": [
      "(3, 140, 140)\n"
     ]
    },
    {
     "data": {
      "image/png": "[encoded data removed]",
      "text/plain": [
       "<Figure size 432x288 with 1 Axes>"
      ]
     },
     "metadata": {
      "needs_background": "light"
     },
     "output_type": "display_data"
    },
    {
     "name": "stdout",
     "output_type": "stream",
     "text": [
      "Pole: (116, np.float64(50.0))\n",
      "(3, 140, 140)\n",
      "Player: 71.5\n",
      "Trees: [(133, np.float64(123.0))]\n",
      "(3, 140, 140)\n",
      "Reward: 4\n",
      "(3, 140, 140)\n"
     ]
    },
    {
     "data": {
      "image/png": "[encoded data removed]",
      "text/plain": [
       "<Figure size 432x288 with 1 Axes>"
      ]
     },
     "metadata": {
      "needs_background": "light"
     },
     "output_type": "display_data"
    },
    {
     "name": "stdout",
     "output_type": "stream",
     "text": [
      "Pole: (111, np.float64(50.0))\n",
      "(3, 140, 140)\n",
      "Player: 71.5\n",
      "Trees: [(128, np.float64(123.0))]\n",
      "(3, 140, 140)\n",
      "Reward: 5\n",
      "(3, 140, 140)\n"
     ]
    },
    {
     "data": {
      "image/png": "[encoded data removed]",
      "text/plain": [
       "<Figure size 432x288 with 1 Axes>"
      ]
     },
     "metadata": {
      "needs_background": "light"
     },
     "output_type": "display_data"
    },
    {
     "name": "stdout",
     "output_type": "stream",
     "text": [
      "Pole: (105, np.float64(50.0))\n",
      "(3, 140, 140)\n",
      "Player: 71.5\n",
      "Trees: [(122, np.float64(123.0))]\n",
      "(3, 140, 140)\n",
      "Reward: 6\n",
      "(3, 140, 140)\n"
     ]
    },
    {
     "data": {
      "image/png": "[encoded data removed]",
      "text/plain": [
       "<Figure size 432x288 with 1 Axes>"
      ]
     },
     "metadata": {
      "needs_background": "light"
     },
     "output_type": "display_data"
    },
    {
     "name": "stdout",
     "output_type": "stream",
     "text": [
      "Pole: (96, np.float64(50.0))\n",
      "(3, 140, 140)\n",
      "Player: 71.5\n",
      "Trees: [(113, np.float64(123.0))]\n",
      "(3, 140, 140)\n",
      "Reward: 9\n",
      "(3, 140, 140)\n"
     ]
    },
    {
     "data": {
      "image/png": "[encoded data removed]",
      "text/plain": [
       "<Figure size 432x288 with 1 Axes>"
      ]
     },
     "metadata": {
      "needs_background": "light"
     },
     "output_type": "display_data"
    },
    {
     "name": "stdout",
     "output_type": "stream",
     "text": [
      "Pole: (87, np.float64(50.0))\n",
      "(3, 140, 140)\n",
      "Player: 71.5\n",
      "Trees: [(104, np.float64(123.0))]\n",
      "(3, 140, 140)\n",
      "Reward: 9\n",
      "(3, 140, 140)\n"
     ]
    },
    {
     "data": {
      "image/png": "[encoded data removed]",
      "text/plain": [
       "<Figure size 432x288 with 1 Axes>"
      ]
     },
     "metadata": {
      "needs_background": "light"
     },
     "output_type": "display_data"
    },
    {
     "name": "stdout",
     "output_type": "stream",
     "text": [
      "Pole: (77, np.float64(50.0))\n",
      "(3, 140, 140)\n",
      "Player: 71.5\n",
      "Trees: [(94, np.float64(123.0))]\n",
      "(3, 140, 140)\n",
      "Reward: 10\n",
      "(3, 140, 140)\n"
     ]
    },
    {
     "data": {
      "image/png": "[encoded data removed]",
      "text/plain": [
       "<Figure size 432x288 with 1 Axes>"
      ]
     },
     "metadata": {
      "needs_background": "light"
     },
     "output_type": "display_data"
    },
    {
     "name": "stdout",
     "output_type": "stream",
     "text": [
      "Pole: (67, np.float64(50.0))\n",
      "(3, 140, 140)\n",
      "Player: 71.5\n",
      "Trees: [(84, np.float64(123.0))]\n",
      "(3, 140, 140)\n",
      "Reward: 10\n",
      "(3, 140, 140)\n"
     ]
    },
    {
     "data": {
      "image/png": "[encoded data removed]",
      "text/plain": [
       "<Figure size 432x288 with 1 Axes>"
      ]
     },
     "metadata": {
      "needs_background": "light"
     },
     "output_type": "display_data"
    },
    {
     "name": "stdout",
     "output_type": "stream",
     "text": [
      "Pole: (56, np.float64(50.0))\n",
      "(3, 140, 140)\n",
      "Player: 71.5\n",
      "Trees: [(73, np.float64(123.0))]\n",
      "(3, 140, 140)\n",
      "Reward: 11\n",
      "(3, 140, 140)\n"
     ]
    },
    {
     "data": {
      "image/png": "[encoded data removed]",
      "text/plain": [
       "<Figure size 432x288 with 1 Axes>"
      ]
     },
     "metadata": {
      "needs_background": "light"
     },
     "output_type": "display_data"
    },
    {
     "name": "stdout",
     "output_type": "stream",
     "text": [
      "Pole: (42, np.float64(50.0))\n",
      "(3, 140, 140)\n",
      "Player: 71.5\n",
      "Trees: [(59, np.float64(123.0))]\n",
      "(3, 140, 140)\n",
      "Reward: 14\n",
      "(3, 140, 140)\n"
     ]
    },
    {
     "data": {
      "image/png": "[encoded data removed]",
      "text/plain": [
       "<Figure size 432x288 with 1 Axes>"
      ]
     },
     "metadata": {
      "needs_background": "light"
     },
     "output_type": "display_data"
    },
    {
     "name": "stdout",
     "output_type": "stream",
     "text": [
      "Pole: (29, np.float64(50.0))\n",
      "(3, 140, 140)\n",
      "Player: 71.5\n",
      "Trees: [(46, np.float64(123.0))]\n",
      "(3, 140, 140)\n",
      "Reward: 13\n",
      "(3, 140, 140)\n"
     ]
    },
    {
     "data": {
      "image/png": "[encoded data removed]",
      "text/plain": [
       "<Figure size 432x288 with 1 Axes>"
      ]
     },
     "metadata": {
      "needs_background": "light"
     },
     "output_type": "display_data"
    },
    {
     "name": "stdout",
     "output_type": "stream",
     "text": [
      "Pole: (15, np.float64(50.0))\n",
      "(3, 140, 140)\n",
      "Player: 71.5\n",
      "Trees: [(32, np.float64(123.0)), (136, np.float64(30.0))]\n",
      "(3, 140, 140)\n",
      "Reward: 14\n",
      "(3, 140, 140)\n"
     ]
    },
    {
     "data": {
      "image/png": "[encoded data removed]",
      "text/plain": [
       "<Figure size 432x288 with 1 Axes>"
      ]
     },
     "metadata": {
      "needs_background": "light"
     },
     "output_type": "display_data"
    },
    {
     "name": "stdout",
     "output_type": "stream",
     "text": [
      "Pole: (2, np.float64(50.0))\n",
      "(3, 140, 140)\n",
      "Player: 71.5\n",
      "Trees: [(19, np.float64(123.0)), (123, np.float64(30.0))]\n",
      "(3, 140, 140)\n",
      "Reward: 13\n",
      "(3, 140, 140)\n"
     ]
    },
    {
     "data": {
      "image/png": "[encoded data removed]",
      "text/plain": [
       "<Figure size 432x288 with 1 Axes>"
      ]
     },
     "metadata": {
      "needs_background": "light"
     },
     "output_type": "display_data"
    },
    {
     "name": "stdout",
     "output_type": "stream",
     "text": [
      "Pole: (92, np.float64(80.0))\n",
      "(3, 140, 140)\n",
      "Player: 71.5\n",
      "Trees: [(5, np.float64(123.0)), (109, np.float64(30.0))]\n",
      "(3, 140, 140)\n",
      "Reward: 0\n",
      "(3, 140, 140)\n"
     ]
    },
    {
     "data": {
      "image/png": "[encoded data removed]",
      "text/plain": [
       "<Figure size 432x288 with 1 Axes>"
      ]
     },
     "metadata": {
      "needs_background": "light"
     },
     "output_type": "display_data"
    },
    {
     "name": "stdout",
     "output_type": "stream",
     "text": [
      "Pole: (79, np.float64(80.0))\n",
      "(3, 140, 140)\n",
      "Player: 71.5\n",
      "Trees: [(0, np.float64(123.0)), (96, np.float64(30.0))]\n",
      "(3, 140, 140)\n",
      "Reward: 13\n",
      "(3, 140, 140)\n"
     ]
    },
    {
     "data": {
      "image/png": "[encoded data removed]",
      "text/plain": [
       "<Figure size 432x288 with 1 Axes>"
      ]
     },
     "metadata": {
      "needs_background": "light"
     },
     "output_type": "display_data"
    },
    {
     "name": "stdout",
     "output_type": "stream",
     "text": [
      "Pole: (65, np.float64(80.0))\n",
      "(3, 140, 140)\n",
      "Player: 71.5\n",
      "Trees: [(0, np.float64(123.5)), (82, np.float64(30.0))]\n",
      "(3, 140, 140)\n",
      "Reward: 14\n",
      "(3, 140, 140)\n"
     ]
    },
    {
     "data": {
      "image/png": "[encoded data removed]",
      "text/plain": [
       "<Figure size 432x288 with 1 Axes>"
      ]
     },
     "metadata": {
      "needs_background": "light"
     },
     "output_type": "display_data"
    },
    {
     "name": "stdout",
     "output_type": "stream",
     "text": [
      "Pole: (52, np.float64(80.0))\n",
      "(3, 140, 140)\n",
      "Player: 71.5\n",
      "Trees: [(69, np.float64(30.0))]\n",
      "(3, 140, 140)\n",
      "Reward: 13\n",
      "(3, 140, 140)\n"
     ]
    },
    {
     "data": {
      "image/png": "[encoded data removed]",
      "text/plain": [
       "<Figure size 432x288 with 1 Axes>"
      ]
     },
     "metadata": {
      "needs_background": "light"
     },
     "output_type": "display_data"
    },
    {
     "name": "stdout",
     "output_type": "stream",
     "text": [
      "Pole: (38, np.float64(80.0))\n",
      "(3, 140, 140)\n",
      "Player: 71.5\n",
      "Trees: [(55, np.float64(30.0))]\n",
      "(3, 140, 140)\n",
      "Reward: 14\n",
      "(3, 140, 140)\n"
     ]
    },
    {
     "data": {
      "image/png": "[encoded data removed]",
      "text/plain": [
       "<Figure size 432x288 with 1 Axes>"
      ]
     },
     "metadata": {
      "needs_background": "light"
     },
     "output_type": "display_data"
    },
    {
     "name": "stdout",
     "output_type": "stream",
     "text": [
      "Pole: (25, np.float64(80.0))\n",
      "(3, 140, 140)\n",
      "Player: 71.5\n",
      "Trees: [(42, np.float64(30.0))]\n",
      "(3, 140, 140)\n",
      "Reward: 13\n",
      "(3, 140, 140)\n"
     ]
    },
    {
     "data": {
      "image/png": "[encoded data removed]",
      "text/plain": [
       "<Figure size 432x288 with 1 Axes>"
      ]
     },
     "metadata": {
      "needs_background": "light"
     },
     "output_type": "display_data"
    },
    {
     "name": "stdout",
     "output_type": "stream",
     "text": [
      "Pole: (11, np.float64(80.0))\n",
      "(3, 140, 140)\n",
      "Player: 71.5\n",
      "Trees: [(28, np.float64(30.0))]\n",
      "(3, 140, 140)\n",
      "Reward: 14\n"
     ]
    }
   ],
   "source": [
    "env = gym.make('ALE/Skiing-v5')\n",
    "env.reset()\n",
    "observation, reward, done, trunc, info = env.step(0)\n",
    "observation = np.swapaxes(np.swapaxes(observation, 1, 2), 0, 1)\n",
    "old_observation = truncate_picture(observation)\n",
    "truncated_obs = old_observation\n",
    "\n",
    "\n",
    "actions = [1,1,1,1] + [0 for i in range(15)]\n",
    "\n",
    "for i in range(len(actions)):\n",
    "    last_features = extract_extra_features(truncated_obs, old_observation)\n",
    "    res = target_net(torch.tensor(last_features, dtype=torch.float32)).detach().numpy()\n",
    "    action = actions[i]\n",
    "    for j in range(ACTION_REPETITION):\n",
    "        observation, reward, done, trunc, info = env.step(int())\n",
    "    plt.imshow(np.swapaxes(np.swapaxes(truncated_obs, 0, 1), 1, 2), interpolation='nearest')\n",
    "    plt.show()\n",
    "    observation = np.swapaxes(np.swapaxes(observation, 1, 2), 0, 1)\n",
    "    truncated_obs = truncate_picture(observation)\n",
    "    print(f\"Pole: {find_pole_middle(truncated_obs)}\")\n",
    "    print(f\"Player: {find_player_pos(truncated_obs)}\")\n",
    "    print(f\"Trees: {find_all_trees(truncated_obs)}\")\n",
    "    print(f\"Reward: {get_reward(old_observation, truncated_obs)}\")\n",
    "    old_observation = truncated_obs\n"
   ]
  },
  {
   "cell_type": "code",
   "execution_count": null,
   "metadata": {},
   "outputs": [],
   "source": []
  }
 ],
 "metadata": {
  "kernelspec": {
   "display_name": "Python 3",
   "language": "python",
   "name": "python3"
  },
  "language_info": {
   "codemirror_mode": {
    "name": "ipython",
    "version": 3
   },
   "file_extension": ".py",
   "mimetype": "text/x-python",
   "name": "python",
   "nbconvert_exporter": "python",
   "pygments_lexer": "ipython3",
   "version": "3.10.2"
  }
 },
 "nbformat": 4,
 "nbformat_minor": 2
}
